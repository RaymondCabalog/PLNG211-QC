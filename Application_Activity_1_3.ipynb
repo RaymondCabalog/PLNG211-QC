{
  "nbformat": 4,
  "nbformat_minor": 0,
  "metadata": {
    "colab": {
      "provenance": [],
      "authorship_tag": "ABX9TyP3++OUq73kG7TgVbdc/pRz",
      "include_colab_link": true
    },
    "kernelspec": {
      "name": "python3",
      "display_name": "Python 3"
    },
    "language_info": {
      "name": "python"
    }
  },
  "cells": [
    {
      "cell_type": "markdown",
      "metadata": {
        "id": "view-in-github",
        "colab_type": "text"
      },
      "source": [
        "<a href=\"https://colab.research.google.com/github/RaymondCabalog/PLNG211-QC/blob/main/Application_Activity_1_3.ipynb\" target=\"_parent\"><img src=\"https://colab.research.google.com/assets/colab-badge.svg\" alt=\"Open In Colab\"/></a>"
      ]
    },
    {
      "cell_type": "code",
      "execution_count": 1,
      "metadata": {
        "colab": {
          "base_uri": "https://localhost:8080/"
        },
        "id": "4P26zJP3TNZB",
        "outputId": "d6e01ca2-1325-482b-f408-1efa45c933d7"
      },
      "outputs": [
        {
          "output_type": "stream",
          "name": "stdout",
          "text": [
            "Enter Age: 18\n",
            "You are qualified\n"
          ]
        }
      ],
      "source": [
        "#Application 1: Write a program that determines the input age is qualified to vote or not.\n",
        "#The qualifying age is 18 years old and above.\n",
        "\n",
        "age = input(\"Enter Age: \")\n",
        "if int(age)>=18:\n",
        "  print(\"You are qualified\")\n",
        "else:\n",
        "  print(\"You are not qualified\")"
      ]
    },
    {
      "cell_type": "code",
      "source": [
        "#Application 2: Write a program that determines if the input is POSITIVE, NEGATIVE, or Zero.\n",
        "\n",
        "num = input(\"Enter Number: \")\n",
        "if int(num)>0:\n",
        "  print(\"The number is Positive\")\n",
        "elif int(num)<0:\n",
        "  print(\"The number is Negative\")\n",
        "else:\n",
        "  print(\"The number is Zero\")"
      ],
      "metadata": {
        "colab": {
          "base_uri": "https://localhost:8080/"
        },
        "id": "2zSYgVI2TSws",
        "outputId": "16474175-7100-45c8-8080-42e87c8f05db"
      },
      "execution_count": 2,
      "outputs": [
        {
          "output_type": "stream",
          "name": "stdout",
          "text": [
            "Enter Number: -1\n",
            "The number is Negative\n"
          ]
        }
      ]
    },
    {
      "cell_type": "code",
      "source": [
        "#Application 3: Using while loop and break statement, the output is only 3\n",
        "\n",
        "i= 1\n",
        "while i<=6:\n",
        "  i+=1\n",
        "  if i==3:\n",
        "    break\n",
        "print(i)"
      ],
      "metadata": {
        "colab": {
          "base_uri": "https://localhost:8080/"
        },
        "id": "FVvk1lnITUGr",
        "outputId": "e86c258b-b377-418d-9c86-b50bb1a65272"
      },
      "execution_count": 3,
      "outputs": [
        {
          "output_type": "stream",
          "name": "stdout",
          "text": [
            "3\n"
          ]
        }
      ]
    }
  ]
}