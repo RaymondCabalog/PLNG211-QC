{
  "nbformat": 4,
  "nbformat_minor": 0,
  "metadata": {
    "colab": {
      "provenance": [],
      "authorship_tag": "ABX9TyNGLxc47QfrVvfBMq8jcguw",
      "include_colab_link": true
    },
    "kernelspec": {
      "name": "python3",
      "display_name": "Python 3"
    },
    "language_info": {
      "name": "python"
    }
  },
  "cells": [
    {
      "cell_type": "markdown",
      "metadata": {
        "id": "view-in-github",
        "colab_type": "text"
      },
      "source": [
        "<a href=\"https://colab.research.google.com/github/RaymondCabalog/PLNG211-QC/blob/main/Class_and_Object.ipynb\" target=\"_parent\"><img src=\"https://colab.research.google.com/assets/colab-badge.svg\" alt=\"Open In Colab\"/></a>"
      ]
    },
    {
      "cell_type": "code",
      "execution_count": null,
      "metadata": {
        "colab": {
          "base_uri": "https://localhost:8080/"
        },
        "id": "Eis44RGTKQC1",
        "outputId": "62280700-2e00-4bd9-9d72-aa0bc52f147c"
      },
      "outputs": [
        {
          "output_type": "stream",
          "name": "stdout",
          "text": [
            "The name of the person is: Ana\n",
            "The age of the person is: 36\n",
            "The name of the person is: Lino\n",
            "The age of the person is: 32\n",
            "The name of the person is: Maria\n",
            "The age of the person is: 39\n"
          ]
        }
      ],
      "source": [
        "class Person:\n",
        "  def __init__(self,name,age):\n",
        "    self.name = name            #attributes\n",
        "    self.age = age\n",
        "class Student(Person):\n",
        "  pass\n",
        "class Teacher(Person):\n",
        "  pass\n",
        "\n",
        "person1 = Person(\"Ana\",36)      #instantiation/add a value to an attribute\n",
        "print(\"The name of the person is:\",person1.name)\n",
        "print(\"The age of the person is:\",person1.age)\n",
        "\n",
        "person2 = Student(\"Lino\",32)    #Inheritance\n",
        "print(\"The name of the person is:\",person2.name)\n",
        "print(\"The age of the person is:\",person2.age)\n",
        "\n",
        "person3 = Teacher(\"Maria\",39)\n",
        "print(\"The name of the person is:\",person3.name)\n",
        "print(\"The age of the person is:\",person3.age)"
      ]
    },
    {
      "cell_type": "code",
      "source": [
        "person2.age = 30\n",
        "print(\"The name and age of student\",person2.name,\"is\",person2.age)"
      ],
      "metadata": {
        "colab": {
          "base_uri": "https://localhost:8080/"
        },
        "id": "TRLg18OqVs_j",
        "outputId": "7bfab1a5-c13e-4a2c-d53d-99a024d3de67"
      },
      "execution_count": null,
      "outputs": [
        {
          "output_type": "stream",
          "name": "stdout",
          "text": [
            "The name and age of student Lino is 30\n"
          ]
        }
      ]
    },
    {
      "cell_type": "code",
      "source": [
        "print(\"The name of the person is:\",person3.name)\n",
        "person3.age = 39\n",
        "print(\"The age of the person is:\",person3.age)\n",
        "\n",
        "#del person3.name\n",
        "#del person3.age\n",
        "print(\"The name of the person is:\",person3.name)\n",
        "print(\"The age of the person is:\",person3.age)"
      ],
      "metadata": {
        "colab": {
          "base_uri": "https://localhost:8080/"
        },
        "id": "UToBGKyZX15e",
        "outputId": "5d4f24f2-3600-497e-f9c3-1312122308f1"
      },
      "execution_count": null,
      "outputs": [
        {
          "output_type": "stream",
          "name": "stdout",
          "text": [
            "The name of the person is: Maria\n",
            "The age of the person is: 39\n",
            "The name of the person is: Maria\n",
            "The age of the person is: 39\n"
          ]
        }
      ]
    },
    {
      "cell_type": "code",
      "source": [
        "#Application 1. Write a Rectangle class in Python language with length and width as attributes\n",
        "#Create a Perimeter () and Area () as methods to compute for the perimeter and area of a rectangle\n",
        "class rectangle():\n",
        "    def __init__(rec,width,length):\n",
        "        rec.width = width\n",
        "        rec.length = length\n",
        "\n",
        "    def perimeter(rec):\n",
        "        return (rec.width + rec.length) * 2\n",
        "\n",
        "    def area(rec):\n",
        "        return rec.width * rec.length\n",
        "\n",
        "recWidth = int(input(\"Width of rectangle: \"))\n",
        "recLength = int(input(\"Length of rectangle: \"))\n",
        "\n",
        "rectangleAreaPerimeter = rectangle(recWidth,recLength)\n",
        "\n",
        "print(\"Area of rectangle:\",rectangleAreaPerimeter.area())\n",
        "print(\"Perimeter of rectangle:\", rectangleAreaPerimeter.perimeter())"
      ],
      "metadata": {
        "id": "Nimzfzs_ZTwO",
        "colab": {
          "base_uri": "https://localhost:8080/"
        },
        "outputId": "76a5ff2f-f1dd-4d17-a5f3-51316e152d03"
      },
      "execution_count": 3,
      "outputs": [
        {
          "output_type": "stream",
          "name": "stdout",
          "text": [
            "Width of rectangle: 10\n",
            "Length of rectangle: 5\n",
            "Area of rectangle: 50\n",
            "Perimeter of rectangle: 30\n"
          ]
        }
      ]
    }
  ]
}