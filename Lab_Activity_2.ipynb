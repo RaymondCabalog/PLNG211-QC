{
  "nbformat": 4,
  "nbformat_minor": 0,
  "metadata": {
    "colab": {
      "provenance": [],
      "authorship_tag": "ABX9TyPgr23jvtR49/gAOP6R/E3K",
      "include_colab_link": true
    },
    "kernelspec": {
      "name": "python3",
      "display_name": "Python 3"
    },
    "language_info": {
      "name": "python"
    }
  },
  "cells": [
    {
      "cell_type": "markdown",
      "metadata": {
        "id": "view-in-github",
        "colab_type": "text"
      },
      "source": [
        "<a href=\"https://colab.research.google.com/github/RaymondCabalog/PLNG211-QC/blob/main/Lab_Activity_2.ipynb\" target=\"_parent\"><img src=\"https://colab.research.google.com/assets/colab-badge.svg\" alt=\"Open In Colab\"/></a>"
      ]
    },
    {
      "cell_type": "markdown",
      "source": [
        "#Problem 2"
      ],
      "metadata": {
        "id": "IjpGGPA8VCe-"
      }
    },
    {
      "cell_type": "code",
      "execution_count": 34,
      "metadata": {
        "id": "gZgvW2jVR1Wx"
      },
      "outputs": [],
      "source": [
        "#1\n",
        "Name = \"Raymond Jeb D. Cabalog\"\n",
        "Student_No = 2210006211\n",
        "Age = 20\n",
        "School = \"Our Lady Fatima University\"\n",
        "Course = \"Bachelor of Science in Computer Science\""
      ]
    },
    {
      "cell_type": "code",
      "source": [
        "#2\n",
        "class Student:\n",
        "  def __init__(self, Name, Student_No, Age, School, Course):\n",
        "    self.Name = Name\n",
        "    self.Student_No = Student_No\n",
        "    self.Age = Age\n",
        "    self.School = School\n",
        "    self.Course = Course\n",
        "    \n",
        "  def info(self):\n",
        "    print(\"Name:\",self.Name)\n",
        "    print(\"Student #:\",self.Student_No)\n",
        "    print(\"Age:\",self.Age)\n",
        "    print(\"School:\",self.School)\n",
        "    print(\"Course:\",self.Course)\n",
        "#3\n",
        "Myself = Student(Name,Student_No,Age,School,Course)\n",
        "#4\n",
        "Myself.info()"
      ],
      "metadata": {
        "colab": {
          "base_uri": "https://localhost:8080/"
        },
        "id": "H-RXLapVSgGO",
        "outputId": "1ad7fb57-f96b-4039-9f66-3cf842e939ac"
      },
      "execution_count": 35,
      "outputs": [
        {
          "output_type": "stream",
          "name": "stdout",
          "text": [
            "Name: Raymond Jeb D. Cabalog\n",
            "Student #: 2210006211\n",
            "Age: 20\n",
            "School: Our Lady Fatima University\n",
            "Course: Bachelor of Science in Computer Science\n"
          ]
        }
      ]
    }
  ]
}