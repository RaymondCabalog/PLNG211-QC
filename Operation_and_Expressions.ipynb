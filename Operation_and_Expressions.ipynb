{
  "nbformat": 4,
  "nbformat_minor": 0,
  "metadata": {
    "colab": {
      "provenance": [],
      "authorship_tag": "ABX9TyPHGXeswejpQsvW5RQ1J41q",
      "include_colab_link": true
    },
    "kernelspec": {
      "name": "python3",
      "display_name": "Python 3"
    },
    "language_info": {
      "name": "python"
    }
  },
  "cells": [
    {
      "cell_type": "markdown",
      "metadata": {
        "id": "view-in-github",
        "colab_type": "text"
      },
      "source": [
        "<a href=\"https://colab.research.google.com/github/RaymondCabalog/PLNG211-QC/blob/main/Operation_and_Expressions.ipynb\" target=\"_parent\"><img src=\"https://colab.research.google.com/assets/colab-badge.svg\" alt=\"Open In Colab\"/></a>"
      ]
    },
    {
      "cell_type": "markdown",
      "source": [
        "Boolean Operators"
      ],
      "metadata": {
        "id": "JED1RSknnWEV"
      }
    },
    {
      "cell_type": "code",
      "execution_count": 1,
      "metadata": {
        "colab": {
          "base_uri": "https://localhost:8080/"
        },
        "id": "2NKD9RYNg3hL",
        "outputId": "5164905a-14f5-4b9f-f50b-b88c21e52f79"
      },
      "outputs": [
        {
          "output_type": "stream",
          "name": "stdout",
          "text": [
            "True\n",
            "False\n",
            "False\n",
            "True\n"
          ]
        }
      ],
      "source": [
        "a=10\n",
        "b=0\n",
        "print(10>9)\n",
        "print(10<9)\n",
        "print(10==9)\n",
        "print(a!=b)"
      ]
    },
    {
      "cell_type": "markdown",
      "source": [
        "Bool() Function"
      ],
      "metadata": {
        "id": "jsuHOKtJhYaf"
      }
    },
    {
      "cell_type": "code",
      "source": [
        "print(bool(15))\n",
        "print(bool(\"Maria\"))\n",
        "\n",
        "print(bool(0))\n",
        "print(bool(None))\n",
        "print(bool(False))\n"
      ],
      "metadata": {
        "id": "7172rw8AhajR"
      },
      "execution_count": null,
      "outputs": []
    },
    {
      "cell_type": "markdown",
      "source": [
        "Function that returns a Boolean"
      ],
      "metadata": {
        "id": "iiD_BL3ihcM9"
      }
    },
    {
      "cell_type": "code",
      "source": [
        "def my_Function():\n",
        "  return True\n",
        "\n",
        "if(my_Function()):\n",
        "  print(\"Yes!\")\n",
        "else:\n",
        "  print(\"No!\")"
      ],
      "metadata": {
        "id": "Gg8Nk26WheqD"
      },
      "execution_count": null,
      "outputs": []
    },
    {
      "cell_type": "markdown",
      "source": [
        "Application 1"
      ],
      "metadata": {
        "id": "c6i0Srfghg1Q"
      }
    },
    {
      "cell_type": "code",
      "source": [
        "c=6             \n",
        "d=7             \n",
        "print(c==d)\n",
        "print(c!=c)"
      ],
      "metadata": {
        "id": "b32otmDBhi78"
      },
      "execution_count": null,
      "outputs": []
    },
    {
      "cell_type": "markdown",
      "source": [
        "Python Operators"
      ],
      "metadata": {
        "id": "spNPHadhhmnz"
      }
    },
    {
      "cell_type": "code",
      "source": [
        "print(10+9)\n",
        "print(10-9)\n",
        "print(10*9)         \n",
        "print(10/5)          #division\n",
        "10//3                #floor division\n",
        "print(10%3)          #remainder      10/3=3.33\n",
        "print(10**2)         #raised number ^"
      ],
      "metadata": {
        "id": "JVLkCrsDhnII"
      },
      "execution_count": null,
      "outputs": []
    },
    {
      "cell_type": "markdown",
      "source": [
        "Python bitwise operator"
      ],
      "metadata": {
        "id": "v_KqKw7MhsAk"
      }
    },
    {
      "cell_type": "code",
      "source": [
        "c=6             #110 in binary\n",
        "d=7             #111 in binary\n",
        "print(c==d)\n",
        "print(c!=c)"
      ],
      "metadata": {
        "id": "ozKLO2hYhsgb"
      },
      "execution_count": null,
      "outputs": []
    },
    {
      "cell_type": "markdown",
      "source": [
        "Bitwise Operators"
      ],
      "metadata": {
        "id": "9X2Q7BIDhuPK"
      }
    },
    {
      "cell_type": "code",
      "source": [
        "e = 60\n",
        "f = 13\n",
        "e & f"
      ],
      "metadata": {
        "id": "D1P9jiQxhwUN"
      },
      "execution_count": null,
      "outputs": []
    },
    {
      "cell_type": "markdown",
      "source": [
        "Python Assignment Operators"
      ],
      "metadata": {
        "id": "etk4E-Gvhydr"
      }
    },
    {
      "cell_type": "code",
      "source": [
        "x = 4    \n",
        "x+=3     #x = x+3, x = 4+3 = 7\n",
        "print(\"x=\",x)"
      ],
      "metadata": {
        "id": "iFukrR_bhz7l"
      },
      "execution_count": null,
      "outputs": []
    },
    {
      "cell_type": "markdown",
      "source": [
        "Logical Operator"
      ],
      "metadata": {
        "id": "ZboZKhJWh1gA"
      }
    },
    {
      "cell_type": "code",
      "source": [
        "print((4>3) and (5!=5))   #and\n",
        "print((6==6) or (6!=6))    #or"
      ],
      "metadata": {
        "colab": {
          "base_uri": "https://localhost:8080/"
        },
        "id": "XgQJbdhrh3lm",
        "outputId": "4caece8c-3bd8-48ca-9b4e-c67db892904a"
      },
      "execution_count": 8,
      "outputs": [
        {
          "output_type": "stream",
          "name": "stdout",
          "text": [
            "False\n",
            "True\n"
          ]
        }
      ]
    },
    {
      "cell_type": "markdown",
      "source": [
        "Identify Operators"
      ],
      "metadata": {
        "id": "Mk_G6PMTh9eW"
      }
    },
    {
      "cell_type": "code",
      "source": [
        "print(4 is 4)\n",
        "print(7 is not 7)"
      ],
      "metadata": {
        "id": "LjhCd91nh-qC"
      },
      "execution_count": null,
      "outputs": []
    }
  ]
}